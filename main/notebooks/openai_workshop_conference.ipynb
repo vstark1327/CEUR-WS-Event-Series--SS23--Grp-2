{
 "cells": [
  {
   "cell_type": "markdown",
   "source": [
    "# Imports"
   ],
   "metadata": {
    "id": "Lj_vG4oAE4UC"
   }
  },
  {
   "cell_type": "code",
   "execution_count": 4,
   "metadata": {
    "id": "NLMfNciStX5b"
   },
   "outputs": [],
   "source": [
    "import openai\n",
    "import json\n",
    "import os\n",
    "from sklearn.model_selection import train_test_split"
   ]
  },
  {
   "cell_type": "code",
   "execution_count": 5,
   "metadata": {
    "id": "IaTu_ZBatX5c"
   },
   "outputs": [],
   "source": [
    "openai.api_key = os.environ.get(\"OPENAI_API_KEY\")"
   ]
  },
  {
   "cell_type": "markdown",
   "source": [
    "# Workshop/Conference Part"
   ],
   "metadata": {
    "id": "zop5FDefEuRc"
   }
  },
  {
   "cell_type": "code",
   "source": [
    "my_file = open('events_with_instanceOf.json')\n",
    "\n",
    "events_with_instanceOf = json.load(my_file)\n",
    "my_file.close()"
   ],
   "metadata": {
    "id": "OSwN1r9T57uO"
   },
   "execution_count": 6,
   "outputs": []
  },
  {
   "cell_type": "code",
   "source": [
    "print(len(events_with_instanceOf))"
   ],
   "metadata": {
    "colab": {
     "base_uri": "https://localhost:8080/"
    },
    "id": "tSuJEo6A6uUt",
    "outputId": "a6bf6bb2-f7ce-4764-9162-8a076dab5699"
   },
   "execution_count": 7,
   "outputs": [
    {
     "output_type": "stream",
     "name": "stdout",
     "text": [
      "3556\n"
     ]
    }
   ]
  },
  {
   "cell_type": "code",
   "source": [
    "workshop = 0\n",
    "conference = 0\n",
    "for event in events_with_instanceOf:\n",
    "  if event['instanceOf'] == 'http://www.wikidata.org/entity/Q40444998':\n",
    "    workshop+=1\n",
    "  elif event['instanceOf'] == 'http://www.wikidata.org/entity/Q2020153':\n",
    "    conference+=1\n",
    "  else:\n",
    "    pass\n",
    "print(f\"No. of Workshops: \",workshop)\n",
    "print(f\"No. of Conferences: \",conference)\n",
    "\n",
    "\n"
   ],
   "metadata": {
    "colab": {
     "base_uri": "https://localhost:8080/"
    },
    "id": "QAYY9j3t6QyG",
    "outputId": "3944d53a-1b8d-43aa-a2ea-69b84a3882dc"
   },
   "execution_count": 8,
   "outputs": [
    {
     "output_type": "stream",
     "name": "stdout",
     "text": [
      "No. of Workshops:  2833\n",
      "No. of Conferences:  659\n"
     ]
    }
   ]
  },
  {
   "cell_type": "code",
   "source": [
    "workshop+conference"
   ],
   "metadata": {
    "colab": {
     "base_uri": "https://localhost:8080/"
    },
    "id": "inC-MPzr8Skd",
    "outputId": "7982521f-f521-4afd-b276-53b22d3b880c"
   },
   "execution_count": 9,
   "outputs": [
    {
     "output_type": "execute_result",
     "data": {
      "text/plain": [
       "3492"
      ]
     },
     "metadata": {},
     "execution_count": 9
    }
   ]
  },
  {
   "cell_type": "code",
   "source": [
    "my_list = []\n",
    "for event in events_with_instanceOf:\n",
    "  if event['instanceOf'] not in my_list:\n",
    "    my_list.append(event['instanceOf'])\n",
    "print(my_list)"
   ],
   "metadata": {
    "colab": {
     "base_uri": "https://localhost:8080/"
    },
    "id": "92PG2P3w8Vn2",
    "outputId": "31894137-3466-42cd-89ee-bd9ffaaaf9e8"
   },
   "execution_count": 10,
   "outputs": [
    {
     "output_type": "stream",
     "name": "stdout",
     "text": [
      "['http://www.wikidata.org/entity/Q40444998', 'http://www.wikidata.org/entity/Q7935096', 'http://www.wikidata.org/entity/Q2020153', 'http://www.wikidata.org/entity/Q98381912', 'http://www.wikidata.org/entity/Q27968055', 'http://www.wikidata.org/entity/Q104418497', 'http://www.wikidata.org/entity/Q1143604']\n"
     ]
    }
   ]
  },
  {
   "cell_type": "code",
   "source": [
    "len(my_list)"
   ],
   "metadata": {
    "colab": {
     "base_uri": "https://localhost:8080/"
    },
    "id": "ZGxwcI838mCf",
    "outputId": "38e7b876-de51-4246-a46a-708903708a0c"
   },
   "execution_count": 11,
   "outputs": [
    {
     "output_type": "execute_result",
     "data": {
      "text/plain": [
       "7"
      ]
     },
     "metadata": {},
     "execution_count": 11
    }
   ]
  },
  {
   "cell_type": "code",
   "source": [
    "for event in events_with_instanceOf:\n",
    "  if event['instanceOf'] == 'http://www.wikidata.org/entity/Q40444998' or event['instanceOf'] == 'http://www.wikidata.org/entity/Q98381912':\n",
    "    event['instanceOf'] = 'Workshop'\n",
    "  elif event['instanceOf'] == 'http://www.wikidata.org/entity/Q2020153':\n",
    "    event['instanceOf'] = 'Conference'\n",
    "  elif event['instanceOf'] == 'http://www.wikidata.org/entity/Q7935096':\n",
    "    event['instanceOf'] = 'Virtual Event'\n",
    "  elif event['instanceOf'] == 'http://www.wikidata.org/entity/Q27968055':\n",
    "    event['instanceOf'] = 'Recurrent Event Edition'\n",
    "  elif event['instanceOf'] == 'http://www.wikidata.org/entity/Q104418497':\n",
    "    event['instanceOf'] = 'Online Event'\n",
    "  elif event['instanceOf'] == 'http://www.wikidata.org/entity/Q1143604':\n",
    "    event['instanceOf'] = 'Proceeding'\n",
    "\n",
    "my_list = []\n",
    "for event in events_with_instanceOf:\n",
    "  if event['instanceOf'] not in my_list:\n",
    "    my_list.append(event['instanceOf'])\n",
    "print(my_list)"
   ],
   "metadata": {
    "colab": {
     "base_uri": "https://localhost:8080/"
    },
    "id": "HsTmBf_otD90",
    "outputId": "0201eba2-390f-43e4-fd83-d9d279d3f5ee"
   },
   "execution_count": 12,
   "outputs": [
    {
     "output_type": "stream",
     "name": "stdout",
     "text": [
      "['Workshop', 'Virtual Event', 'Conference', 'Recurrent Event Edition', 'Online Event', 'Proceeding']\n"
     ]
    }
   ]
  },
  {
   "cell_type": "code",
   "source": [
    "event_title_instanceOff = []\n",
    "for event in events_with_instanceOf:\n",
    "  if 'title' in event:\n",
    "    my_dict = dict()\n",
    "    my_dict['title'] = event['title']\n",
    "    my_dict['Category'] = event['instanceOf']\n",
    "    event_title_instanceOff.append(my_dict)"
   ],
   "metadata": {
    "id": "aXf39koEtEAD"
   },
   "execution_count": 13,
   "outputs": []
  },
  {
   "cell_type": "code",
   "source": [
    "# event_title_instanceOff"
   ],
   "metadata": {
    "id": "ucZg33BztECH"
   },
   "execution_count": null,
   "outputs": []
  },
  {
   "cell_type": "code",
   "source": [
    "train, test = train_test_split(event_title_instanceOff, test_size=0.1)"
   ],
   "metadata": {
    "id": "9OgTomiktEES"
   },
   "execution_count": 14,
   "outputs": []
  },
  {
   "cell_type": "code",
   "source": [
    "len(train)"
   ],
   "metadata": {
    "colab": {
     "base_uri": "https://localhost:8080/"
    },
    "id": "nrhpnOjw0JVh",
    "outputId": "b6dd80fb-bdba-42ba-85ab-453ac9ed547a"
   },
   "execution_count": 15,
   "outputs": [
    {
     "output_type": "execute_result",
     "data": {
      "text/plain": [
       "3125"
      ]
     },
     "metadata": {},
     "execution_count": 15
    }
   ]
  },
  {
   "cell_type": "code",
   "source": [
    "len(test)"
   ],
   "metadata": {
    "colab": {
     "base_uri": "https://localhost:8080/"
    },
    "id": "ankAxsuL0JX3",
    "outputId": "e7d5eb49-cf3c-433e-9212-e2a475fee966"
   },
   "execution_count": 16,
   "outputs": [
    {
     "output_type": "execute_result",
     "data": {
      "text/plain": [
       "348"
      ]
     },
     "metadata": {},
     "execution_count": 16
    }
   ]
  },
  {
   "cell_type": "code",
   "source": [
    "import random\n",
    "\n",
    "random_train = random.sample(train, 200)\n",
    "random_test = random.sample(test, 50)"
   ],
   "metadata": {
    "id": "YJnAIucj5NFs"
   },
   "execution_count": 17,
   "outputs": []
  },
  {
   "cell_type": "code",
   "source": [
    "conversation = [\n",
    "    {'role': 'system', 'content': 'You are a human'},\n",
    "\n",
    "    {'role': 'user', 'content': 'In wikidata, there are about 3400 entries which are interesting to me. Lets call these as \"events\". These events can be categorized into a few categories such as a \"conference\", \"workshop\", \"virtual event\",\"recurrent event edition\",\"online event\" or a \"proceeding\"'},\n",
    "    {'role': 'user', 'content': 'In wikidata, the category to which an event belongs to is sometimes missing, and my task is to deduct from the title of the event to which category it belongs to. For humans it is an easy task for sure, but no one wants to edit thousands of entries by hand. This is where you step in.'},\n",
    "    {'role': 'user', 'content': 'I want you to deduct to which category an event belongs to. To help you out, i will provide titles of some random events, and their corresponding category to help you out with the pattern recognition. Then I will provide more events for you to find out the corresponding categories for them.'},\n",
    "]\n",
    "\n",
    "for count, item in enumerate(random_train, start=1):\n",
    "    conversation.append({'role': 'user', 'content': 'Event ' + str(count) + \" is named '\" + item['title'] + \"'\"})\n",
    "    conversation.append({'role': 'assistant', 'content': 'The Category for Event ' + str(count) + \" is '\" + item['Category'] + \"'\"})"
   ],
   "metadata": {
    "id": "BDM3iVc60JaM"
   },
   "execution_count": 18,
   "outputs": []
  },
  {
   "cell_type": "code",
   "source": [
    "len(conversation)"
   ],
   "metadata": {
    "colab": {
     "base_uri": "https://localhost:8080/"
    },
    "id": "6BiFoma647D2",
    "outputId": "44defd11-aec3-4e37-ab9b-cac536295549"
   },
   "execution_count": 19,
   "outputs": [
    {
     "output_type": "execute_result",
     "data": {
      "text/plain": [
       "404"
      ]
     },
     "metadata": {},
     "execution_count": 19
    }
   ]
  },
  {
   "cell_type": "code",
   "source": [
    "for line in conversation[4:16]:\n",
    "    print(line)"
   ],
   "metadata": {
    "colab": {
     "base_uri": "https://localhost:8080/"
    },
    "id": "x-DfcCrf0Jcq",
    "outputId": "3fa598e7-12fd-4f1e-d78e-a15aca91d9bb"
   },
   "execution_count": 20,
   "outputs": [
    {
     "output_type": "stream",
     "name": "stdout",
     "text": [
      "{'role': 'user', 'content': \"Event 1 is named 'Doctoral Symposium on Research on Online Databases in History'\"}\n",
      "{'role': 'assistant', 'content': \"The Category for Event 1 is 'Workshop'\"}\n",
      "{'role': 'user', 'content': \"Event 2 is named 'Workshop Papers of i-Know 2017'\"}\n",
      "{'role': 'assistant', 'content': \"The Category for Event 2 is 'Workshop'\"}\n",
      "{'role': 'user', 'content': \"Event 3 is named 'Workshop on Adapted intEraction with SociAl Robots'\"}\n",
      "{'role': 'assistant', 'content': \"The Category for Event 3 is 'Workshop'\"}\n",
      "{'role': 'user', 'content': \"Event 4 is named 'International Workshop on Affect, Meta-Affect, Data and Learning (AMADL 2015)'\"}\n",
      "{'role': 'assistant', 'content': \"The Category for Event 4 is 'Workshop'\"}\n",
      "{'role': 'user', 'content': \"Event 5 is named 'PEGOV 2013: Personalization in eGovernment Services and Applications'\"}\n",
      "{'role': 'assistant', 'content': \"The Category for Event 5 is 'Workshop'\"}\n",
      "{'role': 'user', 'content': \"Event 6 is named 'Models and Methods of Information Systems Research Workshop 2019'\"}\n",
      "{'role': 'assistant', 'content': \"The Category for Event 6 is 'Workshop'\"}\n"
     ]
    }
   ]
  },
  {
   "cell_type": "code",
   "source": [
    "deduced_category = []\n",
    "for event in random_test:\n",
    "    conversation.append({'role': 'user', 'content': \"The event for you to find the category for is \" + event['title']})\n",
    "\n",
    "    response = openai.ChatCompletion.create(\n",
    "        model='gpt-3.5-turbo-16k',\n",
    "        messages=conversation,\n",
    "        stop=None,\n",
    "        temperature=0.7\n",
    "    )\n",
    "\n",
    "# Extract the deduced event series from the response\n",
    "    deduced_category.append(response['choices'][0]['message']['content'])\n",
    "\n",
    "# Add the assistant's response to the conversation history\n",
    "    conversation.append({'role': 'assistant', 'content': response['choices'][0]['message']['content']})"
   ],
   "metadata": {
    "id": "TV4QBPIJ1CJv"
   },
   "execution_count": 21,
   "outputs": []
  },
  {
   "cell_type": "code",
   "source": [
    "print(deduced_category)"
   ],
   "metadata": {
    "colab": {
     "base_uri": "https://localhost:8080/"
    },
    "id": "bRBsRKsK2u3B",
    "outputId": "6ab7ea11-62a6-478c-d920-b51352c0b99e"
   },
   "execution_count": 22,
   "outputs": [
    {
     "output_type": "stream",
     "name": "stdout",
     "text": [
      "['The Category for the event \"SWUI 2008 Exploring HCI Challenges\" is \\'Workshop\\'.', 'The Category for the event \"24th International Workshop on Concurrency, Specification and Programming\" is \\'Workshop\\'.', 'The Category for the event \"4th Geogames and Geoplay International Workshop\" is \\'Workshop\\'.', 'The Category for the event \"IRMLeS \\'09 Inductive Reasoning and Machine Learning on the Semantic Web\" is \\'Workshop\\'.', 'The Category for the event \"27th International Conference on Inductive Logic Programming\" is \\'Conference\\'.', 'The Category for the event \"Third International Workshop on Behavior Change Support Systems\" is \\'Workshop\\'.', 'The Category for the event \"SNA 2005 Semantic Network Analysis\" is \\'Workshop\\'.', 'The Category for the event \"2nd Workshop on Human Decision Making in Recommender Systems\" is \\'Workshop\\'.', 'The Category for the event \"Dateso 2010 Annual International Workshop on DAtabases, TExts, Specifications and Objects\" is \\'Workshop\\'.', 'The Category for the event \"MODELS\\'13 Invited Talks, Demonstration Session, Poster Session, and ACM Student Research Competition\" is \\'Conference\\'.', 'The Category for the event \"Workshop on Methods & Tools for Computer Supported Collaborative Creativity Process: Linking Creativity & Informal Learning\" is \\'Workshop\\'.', 'The Category for the event \"3rd International Workshop on Biological Processes & Petri Nets\" is \\'Workshop\\'.', 'The Category for the event \"Workshop on Recommendation Utility Evaluation: Beyond RMSE\" is \\'Workshop\\'.', 'The Category for the event \"1st International Workshop on Petri Net-based Security (WooPS\\'12)\" is \\'Workshop\\'.', 'The Category for the event \"ISWC 2010 Posters & Demonstrations Track: Collected Abstracts\" is \\'Conference\\'.', 'The Category for the event \"1st International Workshop on Technical Debt Analytics (TDA 2016)\" is \\'Workshop\\'.', 'The Category for the event \"6th Linked Data in Architecture and Construction Workshop\" is \\'Workshop\\'.', 'The Category for the event \"VISSW 2009 Visual Interfaces to the Social and the Semantic Web\" is \\'Workshop\\'.', 'The Category for the event \"13th International Workshop on Value Modeling and Business Ontologies\" is \\'Workshop\\'.', 'The Category for the event \"11th International Workshop on Scalable Semantic Web Knowledge Base Systems\" is \\'Workshop\\'.', 'The Category for the event \"WOW2003 Workshop Ontologie-basiertes Wissensmanagement\" is \\'Workshop\\'.', 'The Category for the event \"LANMR\\'08 Fourth Latin American Workshop on Non-Monotonic Reasoning 2008\" is \\'Workshop\\'.', 'The Category for the event \"Machine Learning for Earth Observation Workshop 2019\" is \\'Workshop\\'.', 'The Category for the event \"First International Workshop on Patent Mining and Its Applications\" is \\'Workshop\\'.', 'The Category for the event \"8th Workshop on Ontology Design and Patterns\" is \\'Workshop\\'.', 'The Category for the event \"Workshops of the EDBT/ICDT 2016 Joint Conference\" is \\'Workshop\\'.', 'The Category for the event \"International conference Information Technology and Nanotechnology. Session Data Science\" is \\'Conference\\'.', 'The Category for the event \"Sixth Multimodal Learning Analytics (MMLA) Workshop and the Second Cross-LAK Workshop\" is \\'Workshop\\'.', 'The Category for the event \"International Conference on Biomedical Ontology\" is \\'Conference\\'.', 'The Category for the event \"6th International Symposium on Data-driven Process Discovery and Analysis\" is \\'Workshop\\'.', 'The Category for the event \"International Conference on Rural and Elderly Health Informatics (IREHI 2018)\" is \\'Conference\\'.', 'The Category for the event \"9th Linked Data in Architecture and Construction Workshop\" is \\'Workshop\\'.', 'The Category for the event \"2nd Siberian Scientific Workshop on Data Analysis Technologies with Applications 2021\" is \\'Workshop\\'.', 'The Category for the event \"Interoperability for Enterprise Systems and Applications Workshops\" is \\'Workshop\\'.', 'The Category for the event \"Second International Forum on Digital and Democracy\" is \\'Conference\\'.', 'The Category for the event \"V International Scientific Workshop on Modeling, Information Processing and Computing (MIP: Computing-V 2022)\" is \\'Workshop\\'.', 'The Category for the event \"12th Majorov International Conference on Software Engineering and Computer Systems (MICSECS 2020)\" is \\'Conference\\'.', 'The Category for the event \"KR-MED 2006 Formal Biomedical Knowledge Representation\" is \\'Workshop\\'.', 'The Category for the event \"4th International Workshop on the Resurgence of Datalog in Academia and Industry (Datalog-2.0 2022)\" is \\'Workshop\\'.', 'The Category for the event \"5th Italian Workshop on Artificial Intelligence and Robotics\" is \\'Workshop\\'.', 'The Category for the event \"SWCASE\\'05 Semantic Web Case Studies and Best Practices for eBusiness\" is \\'Workshop\\'.', 'The Category for the event \"EMMSAD\\'06 Exploring Modeling Methods for Systems Analysis and Design\" is \\'Workshop\\'.', 'The Category for the event \"WWW \\'06 Models of Trust for the Web (MTW\\'06)\" is \\'Workshop\\'.', 'The Category for the event \"KESE \\'07 3rd Workshop on Knowledge Engineering and Software Engineering\" is \\'Workshop\\'.', 'The Category for the event \"Workshops of the EDBT/ICDT 2021 Joint Conference\" is \\'Workshop\\'.', 'The Category for the event \"1st International Workshop on Adaptation, Personalization and Recommendation in the Social-semantic Web\" is \\'Workshop\\'.', 'The Category for the event \"International Workshop on Value Modelling and Business Ontologies\" is \\'Workshop\\'.', 'The Category for the event \"1st International Workshop on Computational & Information Technologies for Risk-Informed Systems (CITRisk 2020)\" is \\'Workshop\\'.', 'The Category for the event \"WEWST07 2nd Workshop on Emerging Web Services Technology\" is \\'Workshop\\'.', 'The Category for the event \"AAAI 2022 Spring Symposium on Machine Learning and Knowledge Engineering for Hybrid Intelligence (AAAI-MAKE 2022)\" is \\'Workshop\\'.']\n"
     ]
    }
   ]
  },
  {
   "cell_type": "code",
   "source": [
    "import re\n",
    "predicted_category = []\n",
    "pattern = r'The Category for the event \"(.*?)\" is \\'(.*?)\\''\n",
    "event_category_predicted = []\n",
    "for line in deduced_category:\n",
    "    match = re.search(pattern, line)\n",
    "    if match:\n",
    "        event_name = match.group(1)\n",
    "        category = match.group(2)\n",
    "        my_dict = dict()\n",
    "        my_dict[event_name] = category\n",
    "        event_category_predicted.append(my_dict)\n",
    "        predicted_category.append(category)\n",
    "        print(f\"Event: {event_name}, Category: {category}\")\n",
    "    else:\n",
    "      print(line)"
   ],
   "metadata": {
    "id": "ENdGQwNU4Hn5",
    "colab": {
     "base_uri": "https://localhost:8080/"
    },
    "outputId": "e31ee5af-cfd9-4e25-9d59-1da953186dfe"
   },
   "execution_count": 33,
   "outputs": [
    {
     "output_type": "stream",
     "name": "stdout",
     "text": [
      "Event: SWUI 2008 Exploring HCI Challenges, Category: Workshop\n",
      "Event: 24th International Workshop on Concurrency, Specification and Programming, Category: Workshop\n",
      "Event: 4th Geogames and Geoplay International Workshop, Category: Workshop\n",
      "Event: IRMLeS '09 Inductive Reasoning and Machine Learning on the Semantic Web, Category: Workshop\n",
      "Event: 27th International Conference on Inductive Logic Programming, Category: Conference\n",
      "Event: Third International Workshop on Behavior Change Support Systems, Category: Workshop\n",
      "Event: SNA 2005 Semantic Network Analysis, Category: Workshop\n",
      "Event: 2nd Workshop on Human Decision Making in Recommender Systems, Category: Workshop\n",
      "Event: Dateso 2010 Annual International Workshop on DAtabases, TExts, Specifications and Objects, Category: Workshop\n",
      "Event: MODELS'13 Invited Talks, Demonstration Session, Poster Session, and ACM Student Research Competition, Category: Conference\n",
      "Event: Workshop on Methods & Tools for Computer Supported Collaborative Creativity Process: Linking Creativity & Informal Learning, Category: Workshop\n",
      "Event: 3rd International Workshop on Biological Processes & Petri Nets, Category: Workshop\n",
      "Event: Workshop on Recommendation Utility Evaluation: Beyond RMSE, Category: Workshop\n",
      "Event: 1st International Workshop on Petri Net-based Security (WooPS'12), Category: Workshop\n",
      "Event: ISWC 2010 Posters & Demonstrations Track: Collected Abstracts, Category: Conference\n",
      "Event: 1st International Workshop on Technical Debt Analytics (TDA 2016), Category: Workshop\n",
      "Event: 6th Linked Data in Architecture and Construction Workshop, Category: Workshop\n",
      "Event: VISSW 2009 Visual Interfaces to the Social and the Semantic Web, Category: Workshop\n",
      "Event: 13th International Workshop on Value Modeling and Business Ontologies, Category: Workshop\n",
      "Event: 11th International Workshop on Scalable Semantic Web Knowledge Base Systems, Category: Workshop\n",
      "Event: WOW2003 Workshop Ontologie-basiertes Wissensmanagement, Category: Workshop\n",
      "Event: LANMR'08 Fourth Latin American Workshop on Non-Monotonic Reasoning 2008, Category: Workshop\n",
      "Event: Machine Learning for Earth Observation Workshop 2019, Category: Workshop\n",
      "Event: First International Workshop on Patent Mining and Its Applications, Category: Workshop\n",
      "Event: 8th Workshop on Ontology Design and Patterns, Category: Workshop\n",
      "Event: Workshops of the EDBT/ICDT 2016 Joint Conference, Category: Workshop\n",
      "Event: International conference Information Technology and Nanotechnology. Session Data Science, Category: Conference\n",
      "Event: Sixth Multimodal Learning Analytics (MMLA) Workshop and the Second Cross-LAK Workshop, Category: Workshop\n",
      "Event: International Conference on Biomedical Ontology, Category: Conference\n",
      "Event: 6th International Symposium on Data-driven Process Discovery and Analysis, Category: Workshop\n",
      "Event: International Conference on Rural and Elderly Health Informatics (IREHI 2018), Category: Conference\n",
      "Event: 9th Linked Data in Architecture and Construction Workshop, Category: Workshop\n",
      "Event: 2nd Siberian Scientific Workshop on Data Analysis Technologies with Applications 2021, Category: Workshop\n",
      "Event: Interoperability for Enterprise Systems and Applications Workshops, Category: Workshop\n",
      "Event: Second International Forum on Digital and Democracy, Category: Conference\n",
      "Event: V International Scientific Workshop on Modeling, Information Processing and Computing (MIP: Computing-V 2022), Category: Workshop\n",
      "Event: 12th Majorov International Conference on Software Engineering and Computer Systems (MICSECS 2020), Category: Conference\n",
      "Event: KR-MED 2006 Formal Biomedical Knowledge Representation, Category: Workshop\n",
      "Event: 4th International Workshop on the Resurgence of Datalog in Academia and Industry (Datalog-2.0 2022), Category: Workshop\n",
      "Event: 5th Italian Workshop on Artificial Intelligence and Robotics, Category: Workshop\n",
      "Event: SWCASE'05 Semantic Web Case Studies and Best Practices for eBusiness, Category: Workshop\n",
      "Event: EMMSAD'06 Exploring Modeling Methods for Systems Analysis and Design, Category: Workshop\n",
      "Event: WWW '06 Models of Trust for the Web (MTW'06), Category: Workshop\n",
      "Event: KESE '07 3rd Workshop on Knowledge Engineering and Software Engineering, Category: Workshop\n",
      "Event: Workshops of the EDBT/ICDT 2021 Joint Conference, Category: Workshop\n",
      "Event: 1st International Workshop on Adaptation, Personalization and Recommendation in the Social-semantic Web, Category: Workshop\n",
      "Event: International Workshop on Value Modelling and Business Ontologies, Category: Workshop\n",
      "Event: 1st International Workshop on Computational & Information Technologies for Risk-Informed Systems (CITRisk 2020), Category: Workshop\n",
      "Event: WEWST07 2nd Workshop on Emerging Web Services Technology, Category: Workshop\n",
      "Event: AAAI 2022 Spring Symposium on Machine Learning and Knowledge Engineering for Hybrid Intelligence (AAAI-MAKE 2022), Category: Workshop\n"
     ]
    }
   ]
  },
  {
   "cell_type": "code",
   "source": [
    "len(event_category_predicted)"
   ],
   "metadata": {
    "colab": {
     "base_uri": "https://localhost:8080/"
    },
    "id": "tt8DBRPTIaHx",
    "outputId": "6d8a162e-18da-46ed-af6e-21b72f58b4d5"
   },
   "execution_count": 34,
   "outputs": [
    {
     "output_type": "execute_result",
     "data": {
      "text/plain": [
       "50"
      ]
     },
     "metadata": {},
     "execution_count": 34
    }
   ]
  },
  {
   "cell_type": "code",
   "source": [
    "event_category_predicted"
   ],
   "metadata": {
    "colab": {
     "base_uri": "https://localhost:8080/"
    },
    "id": "D6N2_fhvIaNw",
    "outputId": "7199ef7e-d911-43cd-90cf-b259253b7a0a"
   },
   "execution_count": 35,
   "outputs": [
    {
     "output_type": "execute_result",
     "data": {
      "text/plain": [
       "[{'SWUI 2008 Exploring HCI Challenges': 'Workshop'},\n",
       " {'24th International Workshop on Concurrency, Specification and Programming': 'Workshop'},\n",
       " {'4th Geogames and Geoplay International Workshop': 'Workshop'},\n",
       " {\"IRMLeS '09 Inductive Reasoning and Machine Learning on the Semantic Web\": 'Workshop'},\n",
       " {'27th International Conference on Inductive Logic Programming': 'Conference'},\n",
       " {'Third International Workshop on Behavior Change Support Systems': 'Workshop'},\n",
       " {'SNA 2005 Semantic Network Analysis': 'Workshop'},\n",
       " {'2nd Workshop on Human Decision Making in Recommender Systems': 'Workshop'},\n",
       " {'Dateso 2010 Annual International Workshop on DAtabases, TExts, Specifications and Objects': 'Workshop'},\n",
       " {\"MODELS'13 Invited Talks, Demonstration Session, Poster Session, and ACM Student Research Competition\": 'Conference'},\n",
       " {'Workshop on Methods & Tools for Computer Supported Collaborative Creativity Process: Linking Creativity & Informal Learning': 'Workshop'},\n",
       " {'3rd International Workshop on Biological Processes & Petri Nets': 'Workshop'},\n",
       " {'Workshop on Recommendation Utility Evaluation: Beyond RMSE': 'Workshop'},\n",
       " {\"1st International Workshop on Petri Net-based Security (WooPS'12)\": 'Workshop'},\n",
       " {'ISWC 2010 Posters & Demonstrations Track: Collected Abstracts': 'Conference'},\n",
       " {'1st International Workshop on Technical Debt Analytics (TDA 2016)': 'Workshop'},\n",
       " {'6th Linked Data in Architecture and Construction Workshop': 'Workshop'},\n",
       " {'VISSW 2009 Visual Interfaces to the Social and the Semantic Web': 'Workshop'},\n",
       " {'13th International Workshop on Value Modeling and Business Ontologies': 'Workshop'},\n",
       " {'11th International Workshop on Scalable Semantic Web Knowledge Base Systems': 'Workshop'},\n",
       " {'WOW2003 Workshop Ontologie-basiertes Wissensmanagement': 'Workshop'},\n",
       " {\"LANMR'08 Fourth Latin American Workshop on Non-Monotonic Reasoning 2008\": 'Workshop'},\n",
       " {'Machine Learning for Earth Observation Workshop 2019': 'Workshop'},\n",
       " {'First International Workshop on Patent Mining and Its Applications': 'Workshop'},\n",
       " {'8th Workshop on Ontology Design and Patterns': 'Workshop'},\n",
       " {'Workshops of the EDBT/ICDT 2016 Joint Conference': 'Workshop'},\n",
       " {'International conference Information Technology and Nanotechnology. Session Data Science': 'Conference'},\n",
       " {'Sixth Multimodal Learning Analytics (MMLA) Workshop and the Second Cross-LAK Workshop': 'Workshop'},\n",
       " {'International Conference on Biomedical Ontology': 'Conference'},\n",
       " {'6th International Symposium on Data-driven Process Discovery and Analysis': 'Workshop'},\n",
       " {'International Conference on Rural and Elderly Health Informatics (IREHI 2018)': 'Conference'},\n",
       " {'9th Linked Data in Architecture and Construction Workshop': 'Workshop'},\n",
       " {'2nd Siberian Scientific Workshop on Data Analysis Technologies with Applications 2021': 'Workshop'},\n",
       " {'Interoperability for Enterprise Systems and Applications Workshops': 'Workshop'},\n",
       " {'Second International Forum on Digital and Democracy': 'Conference'},\n",
       " {'V International Scientific Workshop on Modeling, Information Processing and Computing (MIP: Computing-V 2022)': 'Workshop'},\n",
       " {'12th Majorov International Conference on Software Engineering and Computer Systems (MICSECS 2020)': 'Conference'},\n",
       " {'KR-MED 2006 Formal Biomedical Knowledge Representation': 'Workshop'},\n",
       " {'4th International Workshop on the Resurgence of Datalog in Academia and Industry (Datalog-2.0 2022)': 'Workshop'},\n",
       " {'5th Italian Workshop on Artificial Intelligence and Robotics': 'Workshop'},\n",
       " {\"SWCASE'05 Semantic Web Case Studies and Best Practices for eBusiness\": 'Workshop'},\n",
       " {\"EMMSAD'06 Exploring Modeling Methods for Systems Analysis and Design\": 'Workshop'},\n",
       " {\"WWW '06 Models of Trust for the Web (MTW'06)\": 'Workshop'},\n",
       " {\"KESE '07 3rd Workshop on Knowledge Engineering and Software Engineering\": 'Workshop'},\n",
       " {'Workshops of the EDBT/ICDT 2021 Joint Conference': 'Workshop'},\n",
       " {'1st International Workshop on Adaptation, Personalization and Recommendation in the Social-semantic Web': 'Workshop'},\n",
       " {'International Workshop on Value Modelling and Business Ontologies': 'Workshop'},\n",
       " {'1st International Workshop on Computational & Information Technologies for Risk-Informed Systems (CITRisk 2020)': 'Workshop'},\n",
       " {'WEWST07 2nd Workshop on Emerging Web Services Technology': 'Workshop'},\n",
       " {'AAAI 2022 Spring Symposium on Machine Learning and Knowledge Engineering for Hybrid Intelligence (AAAI-MAKE 2022)': 'Workshop'}]"
      ]
     },
     "metadata": {},
     "execution_count": 35
    }
   ]
  },
  {
   "cell_type": "code",
   "source": [
    "test_category = []\n",
    "for event in random_test:\n",
    "  test_category.append(event['Category'])"
   ],
   "metadata": {
    "id": "fpmexwPRJWBi"
   },
   "execution_count": 36,
   "outputs": []
  },
  {
   "cell_type": "code",
   "source": [
    "test_category"
   ],
   "metadata": {
    "colab": {
     "base_uri": "https://localhost:8080/"
    },
    "id": "VfKpT3H_MSy-",
    "outputId": "1e3100e2-a552-4741-8a51-aab3ec91b24b"
   },
   "execution_count": 37,
   "outputs": [
    {
     "output_type": "execute_result",
     "data": {
      "text/plain": [
       "['Workshop',\n",
       " 'Workshop',\n",
       " 'Workshop',\n",
       " 'Workshop',\n",
       " 'Conference',\n",
       " 'Workshop',\n",
       " 'Workshop',\n",
       " 'Workshop',\n",
       " 'Workshop',\n",
       " 'Workshop',\n",
       " 'Workshop',\n",
       " 'Workshop',\n",
       " 'Workshop',\n",
       " 'Workshop',\n",
       " 'Workshop',\n",
       " 'Workshop',\n",
       " 'Workshop',\n",
       " 'Workshop',\n",
       " 'Workshop',\n",
       " 'Workshop',\n",
       " 'Workshop',\n",
       " 'Workshop',\n",
       " 'Workshop',\n",
       " 'Workshop',\n",
       " 'Workshop',\n",
       " 'Workshop',\n",
       " 'Conference',\n",
       " 'Workshop',\n",
       " 'Conference',\n",
       " 'Conference',\n",
       " 'Conference',\n",
       " 'Workshop',\n",
       " 'Workshop',\n",
       " 'Workshop',\n",
       " 'Workshop',\n",
       " 'Workshop',\n",
       " 'Conference',\n",
       " 'Workshop',\n",
       " 'Workshop',\n",
       " 'Workshop',\n",
       " 'Workshop',\n",
       " 'Workshop',\n",
       " 'Workshop',\n",
       " 'Workshop',\n",
       " 'Conference',\n",
       " 'Workshop',\n",
       " 'Workshop',\n",
       " 'Workshop',\n",
       " 'Workshop',\n",
       " 'Workshop']"
      ]
     },
     "metadata": {},
     "execution_count": 37
    }
   ]
  },
  {
   "cell_type": "code",
   "source": [
    "predicted_category"
   ],
   "metadata": {
    "colab": {
     "base_uri": "https://localhost:8080/"
    },
    "id": "RcWVnkAxMNbO",
    "outputId": "6acbd830-415e-4e60-9c24-2741d2b089e5"
   },
   "execution_count": 38,
   "outputs": [
    {
     "output_type": "execute_result",
     "data": {
      "text/plain": [
       "['Workshop',\n",
       " 'Workshop',\n",
       " 'Workshop',\n",
       " 'Workshop',\n",
       " 'Conference',\n",
       " 'Workshop',\n",
       " 'Workshop',\n",
       " 'Workshop',\n",
       " 'Workshop',\n",
       " 'Conference',\n",
       " 'Workshop',\n",
       " 'Workshop',\n",
       " 'Workshop',\n",
       " 'Workshop',\n",
       " 'Conference',\n",
       " 'Workshop',\n",
       " 'Workshop',\n",
       " 'Workshop',\n",
       " 'Workshop',\n",
       " 'Workshop',\n",
       " 'Workshop',\n",
       " 'Workshop',\n",
       " 'Workshop',\n",
       " 'Workshop',\n",
       " 'Workshop',\n",
       " 'Workshop',\n",
       " 'Conference',\n",
       " 'Workshop',\n",
       " 'Conference',\n",
       " 'Workshop',\n",
       " 'Conference',\n",
       " 'Workshop',\n",
       " 'Workshop',\n",
       " 'Workshop',\n",
       " 'Conference',\n",
       " 'Workshop',\n",
       " 'Conference',\n",
       " 'Workshop',\n",
       " 'Workshop',\n",
       " 'Workshop',\n",
       " 'Workshop',\n",
       " 'Workshop',\n",
       " 'Workshop',\n",
       " 'Workshop',\n",
       " 'Workshop',\n",
       " 'Workshop',\n",
       " 'Workshop',\n",
       " 'Workshop',\n",
       " 'Workshop',\n",
       " 'Workshop']"
      ]
     },
     "metadata": {},
     "execution_count": 38
    }
   ]
  },
  {
   "cell_type": "code",
   "source": [
    "sum = 0\n",
    "\n",
    "for test,predicted in zip(test_category, predicted_category):\n",
    "    if test == predicted:\n",
    "        sum += 1\n",
    "\n",
    "print(\"accuracy: \", sum/len(test_category))"
   ],
   "metadata": {
    "colab": {
     "base_uri": "https://localhost:8080/"
    },
    "id": "BkS0SV8wKgJ_",
    "outputId": "3f298b57-bb9a-4c88-dffe-99a976ad3e51"
   },
   "execution_count": 39,
   "outputs": [
    {
     "output_type": "stream",
     "name": "stdout",
     "text": [
      "accuracy:  0.9\n"
     ]
    }
   ]
  },
  {
   "cell_type": "code",
   "source": [
    "sum"
   ],
   "metadata": {
    "id": "JDXTnP0LScGr",
    "outputId": "20c734b8-50fe-470e-8477-129c41745b59",
    "colab": {
     "base_uri": "https://localhost:8080/"
    }
   },
   "execution_count": 40,
   "outputs": [
    {
     "output_type": "execute_result",
     "data": {
      "text/plain": [
       "45"
      ]
     },
     "metadata": {},
     "execution_count": 40
    }
   ]
  }
 ],
 "metadata": {
  "kernelspec": {
   "display_name": "Python 3",
   "language": "python",
   "name": "python3"
  },
  "language_info": {
   "codemirror_mode": {
    "name": "ipython",
    "version": 3
   },
   "file_extension": ".py",
   "mimetype": "text/x-python",
   "name": "python",
   "nbconvert_exporter": "python",
   "pygments_lexer": "ipython3",
   "version": "3.10.8"
  },
  "orig_nbformat": 4,
  "colab": {
   "provenance": []
  }
 },
 "nbformat": 4,
 "nbformat_minor": 0
}
