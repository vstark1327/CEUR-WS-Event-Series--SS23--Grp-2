{
 "cells": [
  {
   "cell_type": "code",
   "execution_count": null,
   "metadata": {},
   "outputs": [],
   "source": [
    "import os\n",
    "import openai\n",
    "import tiktoken"
   ]
  },
  {
   "cell_type": "code",
   "execution_count": null,
   "metadata": {},
   "outputs": [],
   "source": [
    "openai.api_key = os.environ.get(\"OPENAI_API_KEY\")"
   ]
  },
  {
   "cell_type": "code",
   "execution_count": null,
   "metadata": {},
   "outputs": [],
   "source": [
    "#TODO\n",
    "# fix import\n",
    "# fix queries\n",
    "\n",
    "\n",
    "# from eventseries.src.main.query.query_series import WikidataEventSeries\n",
    "# from eventseries.src.main.parsers.ordiniality_extractor import OrdinalExtractor\n",
    "\n",
    "# # Query event series\n",
    "# event_series = WikidataEventSeries()\n",
    "# event_series.event_series_query()\n",
    "\n",
    "# # Query events and extract ordinality\n",
    "# extractor = OrdinalExtractor()\n",
    "# records = extractor.query_extract_ordinal_from_events()\n",
    "# extractor.dump_events_with_ordinality(records)"
   ]
  },
  {
   "cell_type": "code",
   "execution_count": 1,
   "metadata": {},
   "outputs": [],
   "source": [
    "#TODO\n",
    "# improved imports using os\n",
    "\n",
    "import json\n",
    "\n",
    "file1 = open(r'C:\\Users\\resmi\\rwth\\kglab\\CEUR-WS-Event-Series--SS23--Group-2\\eventseries\\src\\main\\resources\\openai\\event_series.json')\n",
    "\n",
    "event_series = json.load(file1)\n",
    "\n",
    "file1.close()\n",
    "\n",
    "file2 = open(r'C:\\Users\\resmi\\rwth\\kglab\\CEUR-WS-Event-Series--SS23--Group-2\\eventseries\\src\\main\\resources\\openai\\events.json', encoding=\"utf8\")\n",
    "\n",
    "events = json.load(file2)\n",
    "\n",
    "file2.close()"
   ]
  },
  {
   "cell_type": "code",
   "execution_count": null,
   "metadata": {},
   "outputs": [],
   "source": [
    "print(\"Number of events present in wikidata: \", len(events))\n",
    "print(\"Number of event series present in wikidata: \", len(event_series))"
   ]
  },
  {
   "cell_type": "code",
   "execution_count": null,
   "metadata": {},
   "outputs": [],
   "source": [
    "# Drop events without title value\n",
    "events_with_title = []\n",
    "\n",
    "for event in events:\n",
    "    if 'title' in event:\n",
    "        events_with_title.append(event)\n",
    "\n",
    "print(\"number of events with a title value: \", len(events_with_title))\n",
    "\n",
    "\n",
    "\n",
    "# Drop out event series without title\n",
    "event_series_with_title = []\n",
    "\n",
    "for binding in event_series:\n",
    "    if 'title' in binding:\n",
    "        event_series_with_title.append(binding)\n",
    "\n",
    "print(\"number of event series with a title value: \", len(event_series_with_title))"
   ]
  },
  {
   "cell_type": "code",
   "execution_count": null,
   "metadata": {},
   "outputs": [],
   "source": [
    "# subset events with entry \"series\"\n",
    "events_with_title_and_series = []\n",
    "\n",
    "for binding in events:\n",
    "    if 'title' in binding and 'series' in binding:\n",
    "        events_with_title_and_series.append(binding)\n",
    "    \n",
    "print(\"number of events with a title value, and linked to an event series: \", len(events_with_title_and_series))\n",
    "\n",
    "# compare linked events with event series, drop the events if there is no match, making sure that corresponding event series exist\n",
    "# \"series\" : type uri, value wikidata link\n",
    "\n",
    "event_series_dummy = [event['series'] for event in event_series_with_title]\n",
    "\n",
    "events_with_title_and_series_bijective = [event for event in events_with_title_and_series if event['series'] in event_series_dummy]\n",
    "\n",
    "print(\"number of events with a title value, and with respective event series present in event series list: \",len(events_with_title_and_series_bijective))"
   ]
  },
  {
   "cell_type": "code",
   "execution_count": null,
   "metadata": {},
   "outputs": [],
   "source": [
    "# Split data into training and testing datasets\n",
    "\n",
    "from sklearn.model_selection import train_test_split\n",
    "\n",
    "train, test = train_test_split(events_with_title_and_series_bijective, test_size=0.1)"
   ]
  },
  {
   "cell_type": "code",
   "execution_count": null,
   "metadata": {},
   "outputs": [],
   "source": [
    "# drop series related data from test dataset\n",
    "\n",
    "for item in test:\n",
    "    if \"series\" in item:\n",
    "        del item[\"series\"]\n",
    "\n",
    "    if \"seriesLabel\" in item:\n",
    "        del item[\"seriesLabel\"]\n",
    "\n",
    "    if \"ordinal\" in item:\n",
    "        del item[\"ordinal\"]"
   ]
  },
  {
   "cell_type": "code",
   "execution_count": null,
   "metadata": {},
   "outputs": [],
   "source": [
    "# TODO\n",
    "\n",
    "# check whether volume is a workshop event or a congerence event (might be colocated)\n",
    "# matching and extraction, 2 sub routines\n",
    "# incorporate volume numbers into prompts for easier tracking -> low priority\n",
    "\n",
    "\n",
    "# an example prompt\n",
    "\n",
    "conversation = [\n",
    "    {'role': 'system', 'content': 'You are a human'},\n",
    "\n",
    "    {'role': 'user', 'content': 'In wikidata, there are about 3400 entries which are interesting to me. Lets call these as \"events\". Additionally, there are different and fewer group of entries, lets call these as \"event series\". Almost all events are a part of event series. I will provide real examples later on, but for context, we can draw similarities to this example: if each star wars movies are \"events\", then the star wars itself is the \"event series\".'},\n",
    "    {'role': 'user', 'content': 'In wikidata, the property connecting the events to event series are missing, and my task is to deduct from the title of the event which event series does this event belong to. For humans it is an easy task for sure, but noone wants to edit thousands of entries by hand. This is where you step in.'},\n",
    "    {'role': 'user', 'content': 'I want you to deduct which event series does the following events belong to. To help you out, i will provide 5 titles of some random events, and their corresponding event series to help you out with the pattern recognition. Then i will provide 5 more events for you to find out the event series for these.'},\n",
    "\n",
    "    {'role': 'user', 'content': \"Event 1 is named '8th Workshop on Managing the Evolution and Preservation of the Data Web (MEPDaW)'\"},\n",
    "    {'role': 'assistant', 'content': 'The event series for Event 1 is \"Workshop on Managing the Evolution and Preservation of the Data Web\"'},\n",
    "    \n",
    "    {'role': 'user', 'content': 'Event 2 is named \"EON-SWSC 2008 Evaluation of Ontology-based Tools and the Semantic Web Service Challenge\"'},\n",
    "    {'role': 'assistant', 'content': 'The event series for Matched event 2 is \"Workshop on Evaluation of Ontology-based Tools\"'},\n",
    "    \n",
    "    {'role': 'user', 'content': 'Event 3 is named \"3rd International Workshop on Knowledge Discovery on the WEB\"'},\n",
    "    {'role': 'assistant', 'content': 'The event series for Matched event 3 is \"International Workshop on Knowledge Discovery on the Web\"'},\n",
    "    \n",
    "    {'role': 'user', 'content': 'Event 4 is named \"14th International Conference on Semantic Web Applications and Tools for Health Care and Life Sciences (SWAT4HCLS 2023)\"'},\n",
    "    {'role': 'assistant', 'content': 'The event series for Matched event 4 is \"Workshop on Semantic Web Applications and Tools for Life Sciences\"'},\n",
    "    \n",
    "    {'role': 'user', 'content': 'Event 5 is named \"Eighth Italian Conference on Computational Linguistics\"'},\n",
    "    {'role': 'assistant', 'content': 'The event series for Matched event 5 is \"Italian Conference on Computational Linguistics\"'},\n",
    "\n",
    "\n",
    "]\n"
   ]
  },
  {
   "cell_type": "code",
   "execution_count": null,
   "metadata": {},
   "outputs": [],
   "source": [
    "\n",
    "\n",
    "conversation = [\n",
    "    {'role': 'system', 'content': 'You are a human'},\n",
    "\n",
    "    {'role': 'user', 'content': 'In wikidata, there are about 3400 entries which are interesting to me. Lets call these as \"events\". Additionally, there are different and fewer group of entries, lets call these as \"event series\". Almost all events are a part of event series. I will provide real examples later on, but for context, we can draw similarities to this example: if each star wars movies are \"events\", then the star wars itself is the \"event series\".'},\n",
    "    {'role': 'user', 'content': 'In wikidata, the property connecting the events to event series are missing, and my task is to deduct from the title of the event which event series does this event belong to. For humans it is an easy task for sure, but noone wants to edit thousands of entries by hand. This is where you step in.'},\n",
    "    {'role': 'user', 'content': 'I want you to deduct which event series does the following events belong to. To help you out, i will provide titles of some random events, and their corresponding event series to help you out with the pattern recognition. Then i will provide more events for you to find out the event series for these.'},\n",
    "]\n",
    "\n",
    "# feed training events & corresponding event series into conversation\n",
    "\n",
    "for count, item in enumerate(train, start=1):\n",
    "    conversation.append({'role': 'user', 'content': 'Event ' + str(count) + \" is named \" + item[\"title\"]})\n",
    "    conversation.append({'role': 'assistant', 'content': 'The event series for Event ' + str(count) + \" is \" + item[\"seriesLabel\"]})\n"
   ]
  },
  {
   "cell_type": "code",
   "execution_count": null,
   "metadata": {},
   "outputs": [],
   "source": [
    "# add 5 unknown events to the prompt\n",
    "events_sample = events_with_title[:5]\n",
    "deduced_event_series = []\n",
    "for event in events_sample:\n",
    "    conversation.append({'role': 'user', 'content': \"The event for you to find event series is '\" + event[\"title\"][\"value\"] + \"'\"})\n",
    "\n",
    "\n",
    "    # Send the conversation to ChatGPT\n",
    "    response = openai.ChatCompletion.create(\n",
    "        model='gpt-3.5-turbo-16k',\n",
    "        messages=conversation,\n",
    "        stop=None,\n",
    "        temperature=0.7\n",
    "    )\n",
    "\n",
    "# Extract the deduced event series from the response\n",
    "    deduced_event_series.append(response['choices'][0]['message']['content'])\n",
    "\n",
    "# Add the assistant's response to the conversation history\n",
    "    conversation.append({'role': 'assistant', 'content': response['choices'][0]['message']['content']})\n"
   ]
  },
  {
   "cell_type": "code",
   "execution_count": null,
   "metadata": {},
   "outputs": [],
   "source": [
    "for event in events_sample:\n",
    "    print(event[\"title\"][\"value\"])"
   ]
  },
  {
   "cell_type": "code",
   "execution_count": null,
   "metadata": {},
   "outputs": [],
   "source": [
    "for ded in deduced_event_series:\n",
    "    print(ded)"
   ]
  },
  {
   "cell_type": "code",
   "execution_count": null,
   "metadata": {},
   "outputs": [],
   "source": [
    "# another extended prompt\n",
    "\n",
    "\n",
    "conversation = [\n",
    "    {'role': 'system', 'content': 'You are a human'},\n",
    "\n",
    "    # define event\n",
    "    {'role': 'user', 'content': 'In wikidata, there are about 3400 entries which are interesting to me. Lets call these as \"events\". These \"events\" are scientific events like academic conferences or academic workshops.'},\n",
    "    \n",
    "    # define proceedings\n",
    "    {'role': 'user', 'content': 'After an \"event\" is concluded, the relevant results or papers presented in these \"events\" are collected into a \"proceeding\". Each \"proceeding\" has a unique \"volume number\". '},\n",
    "    \n",
    "    # define event series\n",
    "    {'role': 'user', 'content': 'Additionally, there are different and fewer group of entries in wikidata, lets call these as \"event series\". Almost all \"events\" are a part of \"event series\", but it is not a necessity. I will provide real examples later on, but for context, we can draw similarities to this example: if each star wars movies are \"events\", then the star wars itself is the \"event series\".'},\n",
    "    \n",
    "    # define task\n",
    "    {'role': 'user', 'content': 'In wikidata, the property connecting the events to event series are missing, and my task is to deduct from the title of the event which event series does this event belong to. For humans it is an easy task for sure, but noone wants to edit thousands of entries by hand. This is where you step in.'},\n",
    "    {'role': 'user', 'content': 'I want you to deduct which event series does the following events belong to. To help you out, i will provide 5 titles of some random events, and their corresponding event series to help you out with the pattern recognition. Then i will provide 5 more events for you to find out the event series for these.'},\n",
    "\n",
    "    # define response format\n",
    "    {'role': 'user', 'content': 'For the responses you give to my prompts, I want you to return in a specific format. I provide the outline below.'},\n",
    "    \n",
    "    # TODO\n",
    "    # more specific workflow\n",
    "    # \n",
    "\n",
    "    {'role': 'user', 'content': 'Use the following step-by-step instructions to respond to user inputs. The user will provide you titles for \"events\" in quotes.'},\n",
    "    {'role': 'user', 'content': 'Step 1 - If you detect multiple events in a single title, add into response \"Colocated: 1\". If you detect a single event in a single title, add \"Colocated: 0\" instead. Most of the \"events\" are single events, colocation of multiple events occurs less frequently.'},\n",
    "    {'role': 'user', 'content': 'Step 2 - If the \"event\" is a workshop, add \"Instance of: Academic Workshop\". If the event is a conference, add \"Instance of: Academic Conference\". If it cannot be deducted from the title provided, add \"Instance of: None\"'},\n",
    "    {'role': 'user', 'content': 'Step 3 - Now try to extract \"event series\" from the given title. The extracted string goes into value field for the key \"part of the series\": \"\". When you cannot deduct anything, insert \"part of the series\": \"0\" into dictionary. Keep in my that the event series can be a long piece of text, up to 50 words in some cases.'},\n",
    "    {'role': 'user', 'content': 'Step 4 - Return this Python dictionary in your response.'},\n",
    "\n",
    "    # provide examples\n",
    "    {'role': 'user', 'content': \"Event 1 is named '8th Workshop on Managing the Evolution and Preservation of the Data Web (MEPDaW)'\"},\n",
    "    {'role': 'assistant', 'content': 'The event series for Event 1 is \"Workshop on Managing the Evolution and Preservation of the Data Web\"'},\n",
    "    \n",
    "    {'role': 'user', 'content': 'Event 2 is named \"EON-SWSC 2008 Evaluation of Ontology-based Tools and the Semantic Web Service Challenge\"'},\n",
    "    {'role': 'assistant', 'content': 'The event series for Matched event 2 is \"Workshop on Evaluation of Ontology-based Tools\"'},\n",
    "    \n",
    "    {'role': 'user', 'content': 'Event 3 is named \"3rd International Workshop on Knowledge Discovery on the WEB\"'},\n",
    "    {'role': 'assistant', 'content': 'The event series for Matched event 3 is \"International Workshop on Knowledge Discovery on the Web\"'},\n",
    "    \n",
    "    {'role': 'user', 'content': 'Event 4 is named \"14th International Conference on Semantic Web Applications and Tools for Health Care and Life Sciences (SWAT4HCLS 2023)\"'},\n",
    "    {'role': 'assistant', 'content': 'The event series for Matched event 4 is \"Workshop on Semantic Web Applications and Tools for Life Sciences\"'},\n",
    "    \n",
    "    {'role': 'user', 'content': 'Event 5 is named \"Eighth Italian Conference on Computational Linguistics\"'},\n",
    "    {'role': 'assistant', 'content': 'The event series for Matched event 5 is \"Italian Conference on Computational Linguistics\"'},\n",
    "]"
   ]
  },
  {
   "cell_type": "code",
   "execution_count": null,
   "metadata": {},
   "outputs": [],
   "source": [
    "# add 5 unknown events to the prompt\n",
    "events_sample = events_with_title[:5]\n",
    "deduced_event_series = []\n",
    "for event in events_sample:\n",
    "    conversation.append({'role': 'user', 'content': \"The event for you to find event series is '\" + event[\"title\"][\"value\"] + \"'\"})\n",
    "\n",
    "\n",
    "    # Send the conversation to ChatGPT\n",
    "    response = openai.ChatCompletion.create(\n",
    "        model='gpt-3.5-turbo',\n",
    "        messages=conversation,\n",
    "        stop=None,\n",
    "        temperature=0.7\n",
    "    )\n",
    "\n",
    "# Extract the deduced event series from the response\n",
    "    deduced_event_series.append(response['choices'][0]['message']['content'])\n",
    "\n",
    "# Add the assistant's response to the conversation history\n",
    "    conversation.append({'role': 'assistant', 'content': response['choices'][0]['message']['content']})"
   ]
  },
  {
   "cell_type": "code",
   "execution_count": null,
   "metadata": {},
   "outputs": [],
   "source": [
    "for event in events_sample:\n",
    "    print(event[\"title\"][\"value\"])"
   ]
  },
  {
   "cell_type": "code",
   "execution_count": null,
   "metadata": {},
   "outputs": [],
   "source": [
    "for ded in deduced_event_series:\n",
    "    print(ded)"
   ]
  },
  {
   "cell_type": "code",
   "execution_count": null,
   "metadata": {},
   "outputs": [],
   "source": [
    "# token counter, can be used to estimate costs\n",
    "encoding = tiktoken.encoding_for_model(\"gpt-3.5-turbo\")\n",
    "\n",
    "total_token_count = sum(len(encoding.encode(message[\"content\"])) for message in conversation)\n",
    "\n",
    "print(f\"Total token count for conversation: {total_token_count}\")"
   ]
  },
  {
   "cell_type": "code",
   "execution_count": 3,
   "metadata": {},
   "outputs": [],
   "source": [
    "import json\n",
    "\n",
    "file3 = open(r'C:\\Users\\resmi\\rwth\\kglab\\CEUR-WS-Event-Series--SS23--Group-2\\eventseries\\src\\main\\resources\\openai\\events2.json', encoding=\"utf8\")\n",
    "\n",
    "events2 = json.load(file3)\n",
    "\n",
    "file3.close()"
   ]
  },
  {
   "cell_type": "code",
   "execution_count": 5,
   "metadata": {},
   "outputs": [],
   "source": [
    "events2 = events2[\"results\"][\"bindings\"]"
   ]
  },
  {
   "cell_type": "code",
   "execution_count": 7,
   "metadata": {},
   "outputs": [
    {
     "name": "stdout",
     "output_type": "stream",
     "text": [
      "events with instance of value:  3556\n",
      "total no of events:  3556\n"
     ]
    }
   ],
   "source": [
    "count = 0\n",
    "\n",
    "for item in events2:\n",
    "    if \"instanceOf\" in item:\n",
    "        count += 1\n",
    "\n",
    "print(\"events with instance of value: \", count)\n",
    "print(\"total no of events: \", len(events2))"
   ]
  }
 ],
 "metadata": {
  "kernelspec": {
   "display_name": "Python 3",
   "language": "python",
   "name": "python3"
  },
  "language_info": {
   "codemirror_mode": {
    "name": "ipython",
    "version": 3
   },
   "file_extension": ".py",
   "mimetype": "text/x-python",
   "name": "python",
   "nbconvert_exporter": "python",
   "pygments_lexer": "ipython3",
   "version": "3.10.8"
  },
  "orig_nbformat": 4
 },
 "nbformat": 4,
 "nbformat_minor": 2
}
