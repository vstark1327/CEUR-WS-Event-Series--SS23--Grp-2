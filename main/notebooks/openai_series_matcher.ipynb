{
 "cells": [
  {
   "cell_type": "code",
   "execution_count": 3,
   "metadata": {},
   "outputs": [],
   "source": [
    "import os\n",
    "import openai\n",
    "import tiktoken"
   ]
  },
  {
   "cell_type": "code",
   "execution_count": 4,
   "metadata": {},
   "outputs": [],
   "source": [
    "openai.api_key = os.environ.get(\"OPENAI_API_KEY\")"
   ]
  },
  {
   "cell_type": "code",
   "execution_count": 5,
   "metadata": {},
   "outputs": [],
   "source": [
    "#TODO\n",
    "# improved imports using os\n",
    "\n",
    "import json\n",
    "\n",
    "file1 = open(r'C:\\Users\\resmi\\rwth\\kglab\\CEUR-WS-Event-Series--SS23--Group-2\\eventseries\\src\\main\\resources\\openai\\event_series.json')\n",
    "\n",
    "event_series = json.load(file1)\n",
    "\n",
    "file1.close()\n",
    "\n",
    "file2 = open(r'C:\\Users\\resmi\\rwth\\kglab\\CEUR-WS-Event-Series--SS23--Group-2\\eventseries\\src\\main\\resources\\openai\\events.json', encoding=\"utf8\")\n",
    "\n",
    "events = json.load(file2)\n",
    "\n",
    "file2.close()"
   ]
  },
  {
   "cell_type": "code",
   "execution_count": 6,
   "metadata": {},
   "outputs": [
    {
     "name": "stdout",
     "output_type": "stream",
     "text": [
      "Number of events present in wikidata:  3556\n",
      "Number of event series present in wikidata:  134\n"
     ]
    }
   ],
   "source": [
    "print(\"Number of events present in wikidata: \", len(events))\n",
    "print(\"Number of event series present in wikidata: \", len(event_series))"
   ]
  },
  {
   "cell_type": "code",
   "execution_count": 7,
   "metadata": {},
   "outputs": [
    {
     "name": "stdout",
     "output_type": "stream",
     "text": [
      "number of events with a title value:  3473\n",
      "number of event series with a title value:  119\n"
     ]
    }
   ],
   "source": [
    "# Drop events without title value\n",
    "events_with_title = []\n",
    "\n",
    "for event in events:\n",
    "    if 'title' in event:\n",
    "        events_with_title.append(event)\n",
    "\n",
    "print(\"number of events with a title value: \", len(events_with_title))\n",
    "\n",
    "\n",
    "\n",
    "# Drop out event series without title\n",
    "event_series_with_title = []\n",
    "\n",
    "for binding in event_series:\n",
    "    if 'title' in binding:\n",
    "        event_series_with_title.append(binding)\n",
    "\n",
    "print(\"number of event series with a title value: \", len(event_series_with_title))"
   ]
  },
  {
   "cell_type": "code",
   "execution_count": 8,
   "metadata": {},
   "outputs": [
    {
     "name": "stdout",
     "output_type": "stream",
     "text": [
      "number of events with a title value, and linked to an event series:  280\n",
      "number of events with a title value, and with respective event series present in event series list:  255\n"
     ]
    }
   ],
   "source": [
    "# subset events with entry \"series\"\n",
    "events_with_title_and_series = []\n",
    "\n",
    "for binding in events:\n",
    "    if 'title' in binding and 'series' in binding:\n",
    "        events_with_title_and_series.append(binding)\n",
    "    \n",
    "print(\"number of events with a title value, and linked to an event series: \", len(events_with_title_and_series))\n",
    "\n",
    "# compare linked events with event series, drop the events if there is no match, making sure that corresponding event series exist\n",
    "# \"series\" : type uri, value wikidata link\n",
    "\n",
    "event_series_dummy = [event['series'] for event in event_series_with_title]\n",
    "\n",
    "events_with_title_and_series_bijective = [event for event in events_with_title_and_series if event['series'] in event_series_dummy]\n",
    "\n",
    "print(\"number of events with a title value, and with respective event series present in event series list: \",len(events_with_title_and_series_bijective))"
   ]
  },
  {
   "cell_type": "code",
   "execution_count": 9,
   "metadata": {},
   "outputs": [],
   "source": [
    "# Split data into training and testing datasets\n",
    "\n",
    "from sklearn.model_selection import train_test_split\n",
    "\n",
    "train, test = train_test_split(events_with_title_and_series_bijective, test_size=0.1)"
   ]
  },
  {
   "cell_type": "code",
   "execution_count": 10,
   "metadata": {},
   "outputs": [],
   "source": [
    "import copy\n",
    "\n",
    "# drop series related data from test dataset\n",
    "test_dropped = copy.deepcopy(test)\n",
    "\n",
    "for item in test_dropped:\n",
    "    if \"series\" in item:\n",
    "        del item[\"series\"]\n",
    "\n",
    "    if \"seriesLabel\" in item:\n",
    "        del item[\"seriesLabel\"]\n",
    "\n",
    "    if \"ordinal\" in item:\n",
    "        del item[\"ordinal\"]"
   ]
  },
  {
   "cell_type": "code",
   "execution_count": 10,
   "metadata": {},
   "outputs": [],
   "source": [
    "# prompt for context\n",
    "\n",
    "conversation = [\n",
    "    {'role': 'system', 'content': 'You are a human'},\n",
    "\n",
    "    {'role': 'user', 'content': 'In wikidata, there are about 3400 entries which are interesting to me. Lets call these as \"events\". Additionally, there are different and fewer group of entries, lets call these as \"event series\". Almost all events are a part of event series. I will provide real examples later on, but for context, we can draw similarities to this example: if each star wars movies are \"events\", then the star wars itself is the \"event series\".'},\n",
    "    {'role': 'user', 'content': 'In wikidata, the property connecting the events to event series are missing, and my task is to deduct from the title of the event which event series does this event belong to. For humans it is an easy task for sure, but noone wants to edit thousands of entries by hand. This is where you step in.'},\n",
    "    {'role': 'user', 'content': 'I want you to deduct which event series does the following events belong to. To help you out, i will provide titles of some random events, and their corresponding event series to help you out with the pattern recognition. Then i will provide more events for you to find out the event series for these.'},\n",
    "]\n",
    "\n",
    "# feed training events & corresponding event series into conversation\n",
    "\n",
    "for count, item in enumerate(train, start=1):\n",
    "    conversation.append({'role': 'user', 'content': 'Event ' + str(count) + \" is named '\" + item[\"title\"] + \"'\"})\n",
    "    conversation.append({'role': 'assistant', 'content': 'The event series for Event ' + str(count) + \" is '\" + item[\"seriesLabel\"] + \"'\"})\n"
   ]
  },
  {
   "cell_type": "code",
   "execution_count": 12,
   "metadata": {},
   "outputs": [
    {
     "name": "stdout",
     "output_type": "stream",
     "text": [
      "{'role': 'user', 'content': \"Event 1 is named '2nd INCOSE Italia Conference on Systems Engineering'\"}\n",
      "{'role': 'assistant', 'content': \"The event series for Event 1 is 'INCOSE Italia Conference on Systems Engineering'\"}\n",
      "{'role': 'user', 'content': \"Event 2 is named '8th Joint Workshop on Interfaces and Human Decision Making for Recommender Systems'\"}\n",
      "{'role': 'assistant', 'content': \"The event series for Event 2 is 'Joint Workshop on Interfaces and Human Decision Making for Recommender Systems'\"}\n",
      "{'role': 'user', 'content': \"Event 3 is named '10th International Workshop on Enterprise Modeling and Information Systems Architectures'\"}\n",
      "{'role': 'assistant', 'content': \"The event series for Event 3 is 'International Workshop on Enterprise Modeling and Information Systems Architectures'\"}\n",
      "{'role': 'user', 'content': \"Event 4 is named '5th International Conference on Biomedical Ontology'\"}\n",
      "{'role': 'assistant', 'content': \"The event series for Event 4 is 'International Conference on Biomedical Ontology'\"}\n",
      "{'role': 'user', 'content': \"Event 5 is named 'Intelligent Access to Heterogeneous Information, 4th Workshop'\"}\n",
      "{'role': 'assistant', 'content': \"The event series for Event 5 is 'Knowledge Representation Meets Databases'\"}\n"
     ]
    }
   ],
   "source": [
    "for line in conversation[4:14]:\n",
    "    print(line)"
   ]
  },
  {
   "cell_type": "code",
   "execution_count": 12,
   "metadata": {},
   "outputs": [],
   "source": [
    "# feed test dataset titles\n",
    "deduced_event_series = []\n",
    "\n",
    "for event in test_dropped:\n",
    "    conversation.append({'role': 'user', 'content': \"The event for you to find event series is \" + event[\"title\"]})\n",
    "\n",
    "\n",
    "    # Send the conversation to ChatGPT\n",
    "    response = openai.ChatCompletion.create(\n",
    "        model='gpt-3.5-turbo-16k',\n",
    "        messages=conversation,\n",
    "        stop=None,\n",
    "        temperature=0.7\n",
    "    )\n",
    "\n",
    "# Extract the deduced event series from the response\n",
    "    deduced_event_series.append(response['choices'][0]['message']['content'])\n",
    "\n",
    "# Add the assistant's response to the conversation history\n",
    "    conversation.append({'role': 'assistant', 'content': response['choices'][0]['message']['content']})\n"
   ]
  },
  {
   "cell_type": "code",
   "execution_count": 20,
   "metadata": {},
   "outputs": [
    {
     "name": "stdout",
     "output_type": "stream",
     "text": [
      "[\"The event series for the 5th International Conference on the Quality of Information and Communications Technology is 'International Conference on the Quality of Information and Communications Technology'.\", \"The event series for the Third Workshop on Bibliometric-enhanced Information Retrieval is 'Workshop on Bibliometric-enhanced Information Retrieval'.\", \"The event series for the 3rd Workshop on Managing the Evolution and Preservation of the Data Web is 'Workshop on Managing the Evolution and Preservation of the Data Web'.\", \"The event series for the Thirteenth International Conference on Concept Lattices and Their Applications is 'International Conference on Concept Lattices and their Applications'.\", 'I\\'m sorry, but I couldn\\'t find a specific event series with the name \"Conference on Information Technologies - Applications and Theory\". It\\'s possible that the event series might have a different name or it is not widely known.', \"The event series for the Latin-American Workshop on Non-Monotonic Reasoning is 'Latin-American Workshop on Non-Monotonic Reasoning'.\", \"The event series for the 4th Workshop on Managing the Evolution and Preservation of the Data Web is 'Workshop on Managing the Evolution and Preservation of the Data Web'.\", \"The event series for the 2nd Joint Workshop on Bibliometric-enhanced Information Retrieval and Natural Language Processing for Digital Libraries is 'Joint Workshop on Bibliometric-enhanced Information Retrieval and Natural Language Processing for Digital Libraries'.\", 'I\\'m sorry, but I couldn\\'t find a specific event series with the name \"Italian Convention on Computational Logic\". It\\'s possible that the event series might have a different name or it is not widely known.', \"The event series for the 3rd International GamiFIN Conference is 'GamiFIN Conference'.\", \"The event series for the International Workshop on the Semantic Web in Hawaii is 'International Workshop on the Semantic Web'.\", \"The event series for the 9th International Workshop on Software Ecosystems is 'International Workshop on Software Ecosystems'.\", \"The event series for the 7th Workshop on Ontologies and Data in Life Sciences is 'Workshop on Ontologies and Data in Life Sciences'.\", \"The event series for the Seventh International i* Workshop is 'International i* Workshop'.\", \"The event series for the Fourth Workshop on Bridging the Gap between Human and Automated Reasoning is 'Workshop on Bridging the Gap between Human and Automated Reasoning'.\", \"The event series for the 6th International Workshop on Artificial Intelligence and Cognition is 'International Workshop on Artificial Intelligence and Cognition'.\", \"The event series for the 9th PhD Symposium on Future Directions in Information Access is 'European Summer School in Information Retrieval'.\", \"The event series for the ASSIN 2 Shared Task is 'Evaluating Semantic Textual Similarity and Textual Entailment in Portuguese'.\", \"The event series for the 3rd Joint Workshop on Interfaces and Human Decision Making for Recommender Systems is 'Joint Workshop on Interfaces and Human Decision Making for Recommender Systems'.\", \"The event series for the 6th Workshop on 'Making Sense of Microposts' is 'Workshop on Making Sense of Microposts'.\", \"The event series for the 11th International i* Workshop is 'International i* Workshop'.\", \"The event series for the 2nd INCOSE Italia Conference on Systems Engineering is 'INCOSE Italia Conference on Systems Engineering'.\", \"The event series for the 7th International Workshop on Artificial Intelligence and Cognition is 'International Workshop on Artificial Intelligence and Cognition'.\", \"The event series for the 1st International Workshop on Information-Communication Technologies & Embedded Systems is 'International Workshop on Information-Communication Technologies & Embedded Systems'.\", \"The event series for the Joint Workshop on Bibliometric-enhanced Information Retrieval and Natural Language Processing for Digital Libraries is 'Joint Workshop on Bibliometric-enhanced Information Retrieval and Natural Language Processing for Digital Libraries'.\", \"The event series for the 3rd International Workshop on Semantic Web 2018 is 'International Workshop on Semantic Web'.\"]\n"
     ]
    }
   ],
   "source": [
    "print(deduced_event_series)"
   ]
  },
  {
   "cell_type": "code",
   "execution_count": 13,
   "metadata": {},
   "outputs": [
    {
     "name": "stdout",
     "output_type": "stream",
     "text": [
      "5th International Conference on the Quality of Information and Communications Technology\n",
      "Third Workshop on Bibliometric-enhanced Information Retrieval\n",
      "3rd Workshop on Managing the Evolution and Preservation of the Data Web\n",
      "Thirteenth International Conference on Concept Lattices and Their Applications\n",
      "Conference on Information Technologies - Applications and Theory\n",
      "Latin-American Workshop on Non-Monotonic Reasoning, 1st Intl. LA-NMR04 Workshop, Antiguo Colegio de San Ildefonso\n",
      "4th Workshop on Managing the Evolution and Preservation of the Data Web\n",
      "2nd Joint Workshop on Bibliometric-enhanced Information Retrieval and Natural Language Processing for Digital Libraries\n",
      "9th Italian Convention on Computational Logic\n",
      "3rd International GamiFIN Conference\n",
      "International Workshop on the Semantic Web, Hawaii\n",
      "9th International Workshop on Software Ecosystems\n",
      "7th Workshop on Ontologies and Data in Life Sciences, ODLS 2016, organized by the GI Workgroup Ontologies in Biomedicine and Life Sciences (OBML)\n",
      "Seventh International i* Workshop\n",
      "Fourth Workshop on Bridging the Gap between Human and Automated Reasoning\n",
      "6th International Workshop on Artificial Intelligence and Cognition\n",
      "9th PhD Symposium on Future Directions in Information Access co-located with 12th European Summer School in Information Retrieval\n",
      "ASSIN 2 Shared Task: Evaluating Semantic Textual Similarity and Textual Entailment in Portuguese\n",
      "3rd Joint Workshop on Interfaces and Human Decision Making for Recommender Systems\n",
      "6th Workshop on 'Making Sense of Microposts'\n",
      "11th International i* Workshop\n",
      "2nd INCOSE Italia Conference on Systems Engineering\n",
      "7th International Workshop on Artificial Intelligence and Cognition\n",
      "1st International Workshop on Information-Communication Technologies & Embedded Systems\n",
      "Joint Workshop on Bibliometric-enhanced Information Retrieval and Natural Language Processing for Digital Libraries\n",
      "3rd International Workshop on Semantic Web 2018 co-located with 15th International Congress on Information (INFO 2018)\n"
     ]
    }
   ],
   "source": [
    "for event in test_dropped:\n",
    "    print(event[\"title\"])"
   ]
  },
  {
   "cell_type": "code",
   "execution_count": 23,
   "metadata": {},
   "outputs": [],
   "source": [
    "pattern = \"'(.*?)'\"\n",
    "import re\n",
    "    \n",
    "extracted_texts = [re.search(pattern, s).group(1) if re.search(pattern, s) else '' for s in deduced_event_series]"
   ]
  },
  {
   "cell_type": "code",
   "execution_count": 24,
   "metadata": {},
   "outputs": [
    {
     "name": "stdout",
     "output_type": "stream",
     "text": [
      "International Conference on the Quality of Information and Communications Technology\n",
      "Workshop on Bibliometric-enhanced Information Retrieval\n",
      "Workshop on Managing the Evolution and Preservation of the Data Web\n",
      "International Conference on Concept Lattices and their Applications\n",
      "m sorry, but I couldn\n",
      "Latin-American Workshop on Non-Monotonic Reasoning\n",
      "Workshop on Managing the Evolution and Preservation of the Data Web\n",
      "Joint Workshop on Bibliometric-enhanced Information Retrieval and Natural Language Processing for Digital Libraries\n",
      "m sorry, but I couldn\n",
      "GamiFIN Conference\n",
      "International Workshop on the Semantic Web\n",
      "International Workshop on Software Ecosystems\n",
      "Workshop on Ontologies and Data in Life Sciences\n",
      "International i* Workshop\n",
      "Workshop on Bridging the Gap between Human and Automated Reasoning\n",
      "International Workshop on Artificial Intelligence and Cognition\n",
      "European Summer School in Information Retrieval\n",
      "Evaluating Semantic Textual Similarity and Textual Entailment in Portuguese\n",
      "Joint Workshop on Interfaces and Human Decision Making for Recommender Systems\n",
      "Making Sense of Microposts\n",
      "International i* Workshop\n",
      "INCOSE Italia Conference on Systems Engineering\n",
      "International Workshop on Artificial Intelligence and Cognition\n",
      "International Workshop on Information-Communication Technologies & Embedded Systems\n",
      "Joint Workshop on Bibliometric-enhanced Information Retrieval and Natural Language Processing for Digital Libraries\n",
      "International Workshop on Semantic Web\n"
     ]
    }
   ],
   "source": [
    "for line in extracted_texts:\n",
    "    print(line)"
   ]
  },
  {
   "cell_type": "code",
   "execution_count": 11,
   "metadata": {},
   "outputs": [
    {
     "name": "stdout",
     "output_type": "stream",
     "text": [
      "26\n"
     ]
    }
   ],
   "source": [
    "print(len(test_dropped))"
   ]
  },
  {
   "cell_type": "code",
   "execution_count": 15,
   "metadata": {},
   "outputs": [
    {
     "name": "stdout",
     "output_type": "stream",
     "text": [
      "Quality of Information and Communications Technology\n",
      "International Workshop on Bibliometric-enhanced Information Retrieval\n",
      "Workshop on Managing the Evolution and Preservation of the Data Web\n",
      "International Conference on Concept Lattices and their Applications\n",
      "Conference on Theory and Practice of Information Technologies\n",
      "Latin-American Workshop on Non-Monotonic Reasoning\n",
      "Workshop on Managing the Evolution and Preservation of the Data Web\n",
      "Joint Workshop on Bibliometric-enhanced Information Retrieval and Natural Language Processing for Digital Libraries\n",
      "Italian Conference on Computational Logic\n",
      "GamiFIN Conference\n",
      "International Workshop on the Semantic Web\n",
      "International Workshop on Software Ecosystems\n",
      "Workshop on Ontologies and Data in Life Sciences\n",
      "International i* Workshop\n",
      "Workshop on Bridging the Gap between Human and Automated Reasoning\n",
      "International Workshop on Artificial Intelligence and Cognition\n",
      "BCS-IRSG Symposium on Future Directions in Information Access\n",
      "Brazilian Symposium in Information and Human Language Technology\n",
      "Joint Workshop on Interfaces and Human Decision Making for Recommender Systems\n",
      "Workshop on Making Sense of Microposts\n",
      "International i* Workshop\n",
      "INCOSE Italia Conference on Systems Engineering\n",
      "International Workshop on Artificial Intelligence and Cognition\n",
      "International Workshop on Information-Communication Technologies & Embedded Systems\n",
      "Joint Workshop on Bibliometric-enhanced Information Retrieval and Natural Language Processing for Digital Libraries\n",
      "International Workshop on Semantic Web Technologies\n"
     ]
    }
   ],
   "source": [
    "for org in test:\n",
    "    print(org[\"seriesLabel\"])"
   ]
  },
  {
   "cell_type": "code",
   "execution_count": 25,
   "metadata": {},
   "outputs": [
    {
     "name": "stdout",
     "output_type": "stream",
     "text": [
      "accuracy:  0.6923076923076923\n"
     ]
    }
   ],
   "source": [
    "sum = 0\n",
    "\n",
    "for line, org in zip(extracted_texts, test):\n",
    "    if line == org[\"seriesLabel\"]:\n",
    "        sum += 1\n",
    "\n",
    "print(\"accuracy: \", sum/len(test))\n"
   ]
  }
 ],
 "metadata": {
  "kernelspec": {
   "display_name": "Python 3",
   "language": "python",
   "name": "python3"
  },
  "language_info": {
   "codemirror_mode": {
    "name": "ipython",
    "version": 3
   },
   "file_extension": ".py",
   "mimetype": "text/x-python",
   "name": "python",
   "nbconvert_exporter": "python",
   "pygments_lexer": "ipython3",
   "version": "3.10.8"
  },
  "orig_nbformat": 4
 },
 "nbformat": 4,
 "nbformat_minor": 2
}
